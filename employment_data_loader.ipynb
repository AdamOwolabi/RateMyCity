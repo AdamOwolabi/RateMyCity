{
 "cells": [
  {
   "cell_type": "markdown",
   "id": "cd4aa55c",
   "metadata": {},
   "source": [
    "# Employment-Focused City RAG Database Setup\n",
    "This notebook loads employment and life-stage data into Pinecone for the Rate My City system."
   ]
  },
  {
   "cell_type": "code",
   "execution_count": null,
   "id": "fc433024",
   "metadata": {},
   "outputs": [],
   "source": [
    "from dotenv import load_dotenv\n",
    "load_dotenv()\n",
    "import os\n",
    "import json\n",
    "import google.generativeai as genai\n",
    "from pinecone.grpc import PineconeGRPC as Pinecone\n",
    "from pinecone import ServerlessSpec"
   ]
  },
  {
   "cell_type": "code",
   "execution_count": null,
   "id": "56687b4c",
   "metadata": {},
   "outputs": [],
   "source": [
    "# Configure Gemini API\n",
    "genai.configure(api_key=os.getenv(\"GEMINIAI_API_KEY\"))\n",
    "\n",
    "# Initialize Pinecone\n",
    "pc = Pinecone(api_key=os.getenv(\"PINECONE_API_KEY\"))"
   ]
  },
  {
   "cell_type": "code",
   "execution_count": null,
   "id": "d2ba98b4",
   "metadata": {},
   "outputs": [],
   "source": [
    "# Check if index exists, if not create it\n",
    "index_name = \"employment-rag\"\n",
    "\n",
    "if index_name not in pc.list_indexes().names():\n",
    "    pc.create_index(\n",
    "        name=index_name, \n",
    "        dimension=768,  # text-embedding-004 produces 768-dimensional vectors\n",
    "        metric=\"cosine\", \n",
    "        spec=ServerlessSpec(\n",
    "            cloud=\"aws\",\n",
    "            region=\"us-east-1\"\n",
    "        ),\n",
    "        deletion_protection=\"disabled\"\n",
    "    )\n",
    "    print(f\"Created index: {index_name}\")\n",
    "else:\n",
    "    print(f\"Index {index_name} already exists\")"
   ]
  },
  {
   "cell_type": "code",
   "execution_count": null,
   "id": "7cae4c65",
   "metadata": {},
   "outputs": [],
   "source": [
    "# Load employment reviews data\n",
    "with open(\"employment_reviews.json\", \"r\") as f:\n",
    "    data = json.load(f)\n",
    "\n",
    "print(f\"Loaded {len(data['reviews'])} city employment reviews\")\n",
    "print(\"Sample review:\")\n",
    "print(data['reviews'][0])"
   ]
  },
  {
   "cell_type": "code",
   "execution_count": null,
   "id": "d8ba5019",
   "metadata": {},
   "outputs": [],
   "source": [
    "# Create embeddings for employment data\n",
    "processed_data = []\n",
    "model_name = \"models/text-embedding-004\"\n",
    "\n",
    "for i, review in enumerate(data['reviews']):\n",
    "    try:\n",
    "        # Create comprehensive text for embedding\n",
    "        review_text = review['review']\n",
    "        \n",
    "        # Generate embedding\n",
    "        response = genai.embed_content(\n",
    "            model=model_name,\n",
    "            content=review_text,\n",
    "        )\n",
    "        \n",
    "        # Prepare data for Pinecone\n",
    "        processed_data.append({\n",
    "            \"id\": f\"{review['city']}_{review['state']}\".replace(\" \", \"_\"),\n",
    "            \"values\": response['embedding'],\n",
    "            \"metadata\": {\n",
    "                \"city\": review['city'],\n",
    "                \"state\": review['state'],\n",
    "                \"stars\": review['stars'],\n",
    "                \"review\": review['review'],\n",
    "                \"unemployment_rate\": review['employment_metrics']['unemployment_rate'],\n",
    "                \"average_salary\": review['employment_metrics']['average_salary'],\n",
    "                \"job_growth_rate\": review['employment_metrics']['job_growth_rate'],\n",
    "                \"top_industries\": \", \".join(review['employment_metrics']['top_industries']),\n",
    "                \"recent_graduate_score\": review['employment_metrics']['life_stage_scores']['recent_graduate'],\n",
    "                \"mid_career_score\": review['employment_metrics']['life_stage_scores']['mid_career'],\n",
    "                \"career_change_score\": review['employment_metrics']['life_stage_scores']['career_change'],\n",
    "                \"family_starting_score\": review['employment_metrics']['life_stage_scores']['family_starting'],\n",
    "                \"pre_retirement_score\": review['employment_metrics']['life_stage_scores']['pre_retirement']\n",
    "            }\n",
    "        })\n",
    "        \n",
    "        print(f\"Processed {i+1}/{len(data['reviews'])}: {review['city']}, {review['state']}\")\n",
    "        \n",
    "    except Exception as e:\n",
    "        print(f\"Error processing {review['city']}: {e}\")\n",
    "\n",
    "print(f\"\\nSuccessfully processed {len(processed_data)} cities\")"
   ]
  },
  {
   "cell_type": "code",
   "execution_count": null,
   "id": "50788d35",
   "metadata": {},
   "outputs": [],
   "source": [
    "# Check a sample processed record\n",
    "if processed_data:\n",
    "    print(\"Sample processed data:\")\n",
    "    sample = processed_data[0]\n",
    "    print(f\"ID: {sample['id']}\")\n",
    "    print(f\"Vector dimensions: {len(sample['values'])}\")\n",
    "    print(f\"Metadata keys: {list(sample['metadata'].keys())}\")\n",
    "    print(f\"City: {sample['metadata']['city']}\")\n",
    "    print(f\"Average salary: ${sample['metadata']['average_salary']:,}\")"
   ]
  },
  {
   "cell_type": "code",
   "execution_count": null,
   "id": "258634c8",
   "metadata": {},
   "outputs": [],
   "source": [
    "# Upload to Pinecone\n",
    "index = pc.Index(index_name)\n",
    "\n",
    "# Upsert in batches to avoid rate limits\n",
    "batch_size = 10\n",
    "for i in range(0, len(processed_data), batch_size):\n",
    "    batch = processed_data[i:i+batch_size]\n",
    "    index.upsert(\n",
    "        vectors=batch,\n",
    "        namespace=\"employment-data\"\n",
    "    )\n",
    "    print(f\"Uploaded batch {i//batch_size + 1}/{(len(processed_data)-1)//batch_size + 1}\")\n",
    "\n",
    "print(\"All data uploaded to Pinecone!\")"
   ]
  },
  {
   "cell_type": "code",
   "execution_count": null,
   "id": "3a93c27e",
   "metadata": {},
   "outputs": [],
   "source": [
    "# Verify the upload\n",
    "stats = index.describe_index_stats()\n",
    "print(\"Index Statistics:\")\n",
    "print(f\"Total vectors: {stats.total_vector_count}\")\n",
    "print(f\"Namespaces: {list(stats.namespaces.keys())}\")\n",
    "if 'employment-data' in stats.namespaces:\n",
    "    print(f\"Employment data vectors: {stats.namespaces['employment-data'].vector_count}\")"
   ]
  },
  {
   "cell_type": "code",
   "execution_count": null,
   "id": "85a6df8e",
   "metadata": {},
   "outputs": [],
   "source": [
    "# Test a query\n",
    "test_query = \"I'm a recent graduate looking for tech jobs with good salary\"\n",
    "test_embedding = genai.embed_content(\n",
    "    model=model_name,\n",
    "    content=test_query\n",
    ")['embedding']\n",
    "\n",
    "results = index.query(\n",
    "    vector=test_embedding,\n",
    "    top_k=3,\n",
    "    include_metadata=True,\n",
    "    namespace=\"employment-data\"\n",
    ")\n",
    "\n",
    "print(\"\\nTest Query Results:\")\n",
    "for i, match in enumerate(results.matches):\n",
    "    print(f\"\\n{i+1}. {match.metadata['city']}, {match.metadata['state']} (Score: {match.score:.3f})\")\n",
    "    print(f\"   Recent Graduate Score: {match.metadata['recent_graduate_score']}/10\")\n",
    "    print(f\"   Average Salary: ${match.metadata['average_salary']:,}\")\n",
    "    print(f\"   Top Industries: {match.metadata['top_industries']}\")"
   ]
  }
 ],
 "metadata": {
  "language_info": {
   "name": "python"
  }
 },
 "nbformat": 4,
 "nbformat_minor": 5
}
